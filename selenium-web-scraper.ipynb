{
 "cells": [
  {
   "cell_type": "code",
   "execution_count": 67,
   "metadata": {},
   "outputs": [],
   "source": [
    "from selenium import webdriver\n",
    "from selenium.webdriver.common.by import By\n",
    "from selenium.webdriver.chrome.service import Service\n",
    "from webdriver_manager.chrome import ChromeDriverManager\n",
    "# Services is imported in order to avoid DeprecationWarning message."
   ]
  },
  {
   "cell_type": "code",
   "execution_count": 44,
   "metadata": {},
   "outputs": [],
   "source": [
    "driver = webdriver.Chrome(service=Service(ChromeDriverManager().install()))"
   ]
  },
  {
   "cell_type": "code",
   "execution_count": 66,
   "metadata": {},
   "outputs": [],
   "source": [
    "BASE_URL = 'https://devoxsoftware.com/blog/top-50-programming-languages-to-learn-in-2022/'\n",
    "\n",
    "driver.get(BASE_URL)"
   ]
  },
  {
   "cell_type": "code",
   "execution_count": 70,
   "metadata": {},
   "outputs": [
    {
     "name": "stdout",
     "output_type": "stream",
     "text": [
      "C \n",
      "Python\n",
      "Java\n",
      "C++\n",
      "C#\n",
      "Virtual Basic\n",
      "JavaScript\n",
      "PHP\n",
      "Assembly Language\n",
      "SQL\n",
      "Groovy\n",
      "Classic Visual Basic\n",
      "Fortran\n",
      "R\n",
      "Ruby \n",
      "Swift\n",
      "Matlab\n",
      "Go\n",
      "Prolog\n",
      "Perl\n",
      "SAS\n",
      "Delphi/Object Pascal \n",
      "Objective-C\n",
      "Rust\n",
      "Scratch\n",
      "Julia\n",
      "Ada\n",
      "Lisp\n",
      "Dart\n",
      "PL/SQL\n",
      "(Visual) FoxPro\n",
      "Scala\n",
      "ABAP\n",
      "COBOL\n",
      "Logo\n",
      "F#\n",
      "Kotlin\n",
      "Transact-SQL\n",
      "Lua\n",
      "Scheme\n",
      "Ladder Logic\n",
      "VBScript\n",
      "D\n",
      "Clojure\n",
      "LabVIEW\n",
      "Nim\n",
      "VHDL\n",
      "Apex\n",
      "TypeScript\n",
      "Bash\n",
      "Final words\n"
     ]
    }
   ],
   "source": [
    "# Locating all h3 tags\n",
    "languages = driver.find_elements(by= By.TAG_NAME, value='h3')\n",
    "\n",
    "# Looping through list of languages\n",
    "for language in languages:\n",
    "    print(language.text)"
   ]
  }
 ],
 "metadata": {
  "kernelspec": {
   "display_name": "Python 3.10.3 64-bit",
   "language": "python",
   "name": "python3"
  },
  "language_info": {
   "codemirror_mode": {
    "name": "ipython",
    "version": 3
   },
   "file_extension": ".py",
   "mimetype": "text/x-python",
   "name": "python",
   "nbconvert_exporter": "python",
   "pygments_lexer": "ipython3",
   "version": "3.10.3"
  },
  "orig_nbformat": 4,
  "vscode": {
   "interpreter": {
    "hash": "698943654ed90e0d601c73b15b591a66035d577c3c6badc918040a9e516c87b7"
   }
  }
 },
 "nbformat": 4,
 "nbformat_minor": 2
}
