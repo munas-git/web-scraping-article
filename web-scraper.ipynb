{
 "cells": [
  {
   "cell_type": "code",
   "execution_count": 2,
   "metadata": {},
   "outputs": [],
   "source": [
    "import requests\n",
    "from bs4 import BeautifulSoup"
   ]
  },
  {
   "cell_type": "code",
   "execution_count": 47,
   "metadata": {},
   "outputs": [],
   "source": [
    "# URL link to the website being used in the article.\n",
    "URL = 'https://devoxsoftware.com/blog/top-50-programming-languages-to-learn-in-2022/'\n",
    "\n",
    "# Response request stored in response variable.\n",
    "response = requests.get(URL)"
   ]
  },
  {
   "cell_type": "code",
   "execution_count": 51,
   "metadata": {},
   "outputs": [
    {
     "name": "stdout",
     "output_type": "stream",
     "text": [
      "Status -  200\n",
      "Content encoding - UTF-8\n"
     ]
    }
   ],
   "source": [
    "# Extracted html content stored inside html_content variable.\n",
    "html_content = response.content\n",
    "\n",
    "# Site content Encoding stored in encoding variable.\n",
    "encoding = response.encoding\n",
    "\n",
    "# Request status code stored in status_code variable.\n",
    "status_code = response.status_code\n",
    "\n",
    "# Outputs\n",
    "print('Status - ', status_code)\n",
    "print('Content encoding -', encoding)\n",
    "# Un-comment next line and re-run this cell to view the raw content of the HTML file.\n",
    "# print('HTML CONTENT \\n\\n', html_content)"
   ]
  },
  {
   "cell_type": "code",
   "execution_count": 54,
   "metadata": {},
   "outputs": [
    {
     "name": "stdout",
     "output_type": "stream",
     "text": [
      "#######  Formatted HTML content view #######\n",
      "\n",
      "\n"
     ]
    }
   ],
   "source": [
    "# Instantiation of beautifulsoup\n",
    "soup = BeautifulSoup(html_content)\n",
    "\n",
    "# Formatting / beautifying of HTML content.\n",
    "formatted_view = soup.prettify()\n",
    "print('#######  Formatted HTML content view #######\\n\\n')\n",
    "# Un-comment next line and re-run this cell to view the formatted content of the HTML file.\n",
    "# print(formatted_view)"
   ]
  },
  {
   "cell_type": "code",
   "execution_count": 75,
   "metadata": {},
   "outputs": [
    {
     "name": "stdout",
     "output_type": "stream",
     "text": [
      "Heading using method 1 - Top 50 Programming Languages to Learn in 2022\n",
      "\n",
      " [<h1 class=\"post-single__title\">\n",
      "        Top 50 Programming Languages to Learn in 2022    </h1>] \n",
      "\n",
      "Top 50 Programming Languages to Learn in 2022\n"
     ]
    }
   ],
   "source": [
    "# Method 1, using find.\n",
    "# This method will check for and return the first h1 tag found in the HTML file.\n",
    "heading = soup.find('h1')\n",
    "print(\"Heading using method 1 -\", heading.text.strip())\n",
    "\n",
    "# Method 2, using findAll or find_all. They both perform the same function.\n",
    "# This method will check for all h1 tags and store them as a list.\n",
    "headings = soup.findAll('h1')\n",
    "# This will output a list which you have to loop through and apply '.text'\n",
    "# Prints out list of headings.\n",
    "print('\\n',headings, '\\n')\n",
    "for head in headings:\n",
    "    print(head.text.strip())"
   ]
  }
 ],
 "metadata": {
  "kernelspec": {
   "display_name": "Python 3.10.3 64-bit",
   "language": "python",
   "name": "python3"
  },
  "language_info": {
   "codemirror_mode": {
    "name": "ipython",
    "version": 3
   },
   "file_extension": ".py",
   "mimetype": "text/x-python",
   "name": "python",
   "nbconvert_exporter": "python",
   "pygments_lexer": "ipython3",
   "version": "3.10.3"
  },
  "orig_nbformat": 4,
  "vscode": {
   "interpreter": {
    "hash": "698943654ed90e0d601c73b15b591a66035d577c3c6badc918040a9e516c87b7"
   }
  }
 },
 "nbformat": 4,
 "nbformat_minor": 2
}
