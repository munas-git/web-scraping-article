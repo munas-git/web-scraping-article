{
 "cells": [
  {
   "cell_type": "code",
   "execution_count": 1,
   "metadata": {},
   "outputs": [],
   "source": [
    "import requests\n",
    "from bs4 import BeautifulSoup"
   ]
  },
  {
   "cell_type": "code",
   "execution_count": 24,
   "metadata": {},
   "outputs": [],
   "source": [
    "# This cell is to be skipped if you will be scraping data from a locally saved XML/HTTP file.\n",
    "# Simply open the file and assign it to a variable i.e\n",
    "# file = saved_file\n",
    "# Then instantiate your soup with the file;\n",
    "# soup = Beautifulsoup('file')\n",
    "\n",
    "# URL link to the website being used in the article.\n",
    "URL = 'https://devoxsoftware.com/blog/top-50-programming-languages-to-learn-in-2022/'\n",
    "\n",
    "# Response request stored in response variable.\n",
    "response = requests.get(URL)"
   ]
  },
  {
   "cell_type": "code",
   "execution_count": 3,
   "metadata": {},
   "outputs": [
    {
     "name": "stdout",
     "output_type": "stream",
     "text": [
      "Status -  200\n",
      "Content encoding - UTF-8\n"
     ]
    }
   ],
   "source": [
    "# Extracted html content stored inside html_content variable.\n",
    "html_content = response.content\n",
    "\n",
    "# Site content Encoding stored in encoding variable.\n",
    "encoding = response.encoding\n",
    "\n",
    "# Request status code stored in status_code variable.\n",
    "status_code = response.status_code\n",
    "\n",
    "# Outputs\n",
    "print('Status - ', status_code)\n",
    "print('Content encoding -', encoding)\n",
    "# Un-comment next line and re-run this cell to view the raw content of the HTML file.\n",
    "# print('HTML CONTENT \\n\\n', html_content)"
   ]
  },
  {
   "cell_type": "code",
   "execution_count": 17,
   "metadata": {},
   "outputs": [
    {
     "name": "stdout",
     "output_type": "stream",
     "text": [
      "#######  Formatted HTML content view #######\n",
      "\n",
      "\n"
     ]
    }
   ],
   "source": [
    "# Instantiation of beautifulsoup\n",
    "soup = BeautifulSoup(html_content)\n",
    "\n",
    "\n",
    "# In an event when your soup isn't working and in the error message theres a suggestion to download a parser\n",
    "# You can simply enter 'pip install lxml' in your terminal and instantiate your soup as seen below\n",
    "# You may have to restart your kernel before the parser will be recognized by your environment.\n",
    "# ------------------------------------------------------------------------------------------------ #\n",
    "# soup = BeautifulSoup(html_content, 'lxml')\n",
    "# ------------------------------------------------------------------------------------------------ #\n",
    "\n",
    "# Formatting / beautifying of HTML content.\n",
    "formatted_view = soup.prettify()\n",
    "print('#######  Formatted HTML content view #######\\n\\n')\n",
    "# Un-comment next line and re-run this cell to view the formatted content of the HTML file.\n",
    "# print(formatted_view)"
   ]
  },
  {
   "cell_type": "code",
   "execution_count": 18,
   "metadata": {},
   "outputs": [
    {
     "name": "stdout",
     "output_type": "stream",
     "text": [
      "First h1 tag text content\n",
      "Heading using method 1 - Top 50 Programming Languages to Learn in 2022\n",
      "\n",
      " List containing all h1 tags\n",
      "[<h1 class=\"post-single__title\">\n",
      "        Top 50 Programming Languages to Learn in 2022    </h1>] \n",
      "\n",
      "all h1 tag text contents\n",
      "Top 50 Programming Languages to Learn in 2022\n"
     ]
    }
   ],
   "source": [
    "# NOTE: The '.text' method is what pulls out the text content or else you will\n",
    "# have the entire line of code returned to you. Try experimenting and without the '.text'  and see\n",
    "# the output that will be returned to you.\n",
    " \n",
    "\n",
    "# Method 1, using find.\n",
    "# This method will check for and return the first h1 tag found in the HTML file.\n",
    "heading = soup.find('h1')\n",
    "print(\"First h1 tag text content\")\n",
    "print(\"Heading using method 1 -\", heading.text.strip())\n",
    "\n",
    "# Method 2, using findAll or find_all, NB: They both perform the same function.\n",
    "# This method will check for all h1 tags and store them as a list.\n",
    "# In this website, there is only 1 h1 tag so it will be returning a list containing just 1 tag.\n",
    "print(\"\\n List containing all h1 tags\")\n",
    "headings = soup.findAll('h1')\n",
    "# This will output a list which you have to loop through and apply '.text'\n",
    "# Prints out list of headings.\n",
    "print(headings, '\\n')\n",
    "print(\"all h1 tag text contents\")\n",
    "for head in headings:\n",
    "    print(head.text.strip())"
   ]
  },
  {
   "cell_type": "code",
   "execution_count": 19,
   "metadata": {},
   "outputs": [
    {
     "name": "stdout",
     "output_type": "stream",
     "text": [
      "First language is - C  \n",
      "\n",
      "Top 50 languges are:\n",
      "C \n",
      "Python\n",
      "Java\n",
      "C++\n",
      "C#\n",
      "Virtual Basic\n",
      "JavaScript\n",
      "PHP\n",
      "Assembly Language\n",
      "SQL\n",
      "Groovy\n",
      "Classic Visual Basic\n",
      "Fortran\n",
      "R\n",
      "Ruby \n",
      "Swift\n",
      "Matlab\n",
      "Go\n",
      "Prolog\n",
      "Perl\n",
      "SAS\n",
      "Delphi/Object Pascal \n",
      "Objective-C\n",
      "Rust\n",
      "Scratch\n",
      "Julia\n",
      "Ada\n",
      "Lisp\n",
      "Dart\n",
      "PL/SQL\n",
      "(Visual) FoxPro\n",
      "Scala\n",
      "ABAP\n",
      "COBOL\n",
      "Logo\n",
      "F#\n",
      "Kotlin\n",
      "Transact-SQL\n",
      "Lua\n",
      "Scheme\n",
      "Ladder Logic\n",
      "VBScript\n",
      "D\n",
      "Clojure\n",
      "LabVIEW\n",
      "Nim\n",
      "VHDL\n",
      "Apex\n",
      "TypeScript\n",
      "Bash\n",
      "Final words\n"
     ]
    }
   ],
   "source": [
    "# Extracting the first language alone.\n",
    "language = soup.find('h3')\n",
    "soup.find()\n",
    "print(\"First language is -\", language.text, '\\n')\n",
    "\n",
    "# Extracting all languages on the web page\n",
    "# I'll be using find_all instead of findAll here just to show that they both work.\n",
    "languages_list = soup.find_all('h3')\n",
    "# Due to the fact that I made use of the find_all method here, I can't apply '.text' because the results are in a list\n",
    "# I have to loop through the list before then applying the '.text' method.\n",
    "\n",
    "\n",
    "print(\"Top 50 languges are:\")\n",
    "for languages in languages_list:\n",
    "    print(languages.text)"
   ]
  },
  {
   "cell_type": "code",
   "execution_count": 30,
   "metadata": {},
   "outputs": [
    {
     "name": "stdout",
     "output_type": "stream",
     "text": [
      "https://devoxsoftware.com\n",
      "https://devoxsoftware.com/expertise/\n",
      "https://devoxsoftware.com/expertise/outsource-web-development/\n",
      "https://devoxsoftware.com/expertise/outsource-web-design/\n",
      "https://devoxsoftware.com/expertise/outsource-mobile-development/\n",
      "https://devoxsoftware.com/expertise/qa-outsourcing/\n",
      "https://devoxsoftware.com/expertise/devops-consulting/\n",
      "https://devoxsoftware.com/expertise/\n",
      "https://devoxsoftware.com/technology/\n",
      "https://devoxsoftware.com/technology/angular-development-company/\n",
      "https://devoxsoftware.com/technology/microsoft-net-development-company/\n",
      "https://devoxsoftware.com/technology/java-development-company/\n",
      "https://devoxsoftware.com/technology/python-development-company/\n",
      "https://devoxsoftware.com/technology/react-js-development-services/\n",
      "https://devoxsoftware.com/technology/vue-js-development-company/\n",
      "https://devoxsoftware.com/technology/node-js-development-services/\n",
      "https://devoxsoftware.com/technology/\n",
      "https://devoxsoftware.com/services/\n",
      "https://devoxsoftware.com/services/software-development-outsourcing/\n",
      "https://devoxsoftware.com/services/dedicated-team/\n",
      "https://devoxsoftware.com/services/staff-augmentation/\n",
      "https://devoxsoftware.com/services/it-staffing/\n",
      "https://devoxsoftware.com/services/offshore-development-center/\n",
      "https://devoxsoftware.com/services/business-process-outsourcing/\n",
      "https://devoxsoftware.com/services/back-end-development-services/\n",
      "https://devoxsoftware.com/services/front-end-development-services/\n",
      "https://devoxsoftware.com/services/saas-development-company/\n",
      "https://devoxsoftware.com/services/business-intelligence-services/\n",
      "https://devoxsoftware.com/services/database-development-company/\n",
      "https://devoxsoftware.com/services/web-development-services/\n",
      "https://devoxsoftware.com/services/offshore-software-development/\n",
      "https://devoxsoftware.com/services/\n",
      "https://devoxsoftware.com/hire/\n",
      "https://devoxsoftware.com/technology/hire-web-developer/\n",
      "https://devoxsoftware.com/technology/hire-angular-developer/\n",
      "https://devoxsoftware.com/hire-react-js-developers/\n",
      "https://devoxsoftware.com/technology/hire-full-stack-developer/\n",
      "https://devoxsoftware.com/hire/hire-dotnet-developers/\n",
      "https://devoxsoftware.com/hire/hire-java-developers/\n",
      "https://devoxsoftware.com/hire/hire-node-js-developers/\n",
      "https://devoxsoftware.com/hire/\n",
      "https://devoxsoftware.com/careers/\n",
      "https://devoxsoftware.com/about-us/\n",
      "https://devoxsoftware.com/mentorship/\n",
      "https://devoxsoftware.com/about-us/\n",
      "https://devoxsoftware.com/portfolio/\n",
      "https://devoxsoftware.com/blog/\n",
      "https://devoxsoftware.com/blog/vue-vs-react-which-one-to-choose-for-2022/\n",
      "https://devoxsoftware.com/blog/technology-stack-for-web-app-development/\n",
      "https://devoxsoftware.com/blog/real-cost-of-it-outsourcing-in-2022/\n",
      "https://devoxsoftware.com/blog/software-development-models-which-one-to-choose/\n",
      "https://devoxsoftware.com/blog/software-quality-metrics-measure-it-succesfully/\n",
      "https://devoxsoftware.com/blog/net-developer-salary-guide-based-on-experience-and-location/\n",
      "https://devoxsoftware.com/blog/angular-developer-salary-research/\n",
      "https://devoxsoftware.com/blog/\n",
      "#contact\n",
      "https://devoxsoftware.com/\n",
      "https://devoxsoftware.com/blog/\n",
      "#span-stylefont-weight-400the-top-20-fundamental-coding-languagesspan\n",
      "#span-stylefont-weight-400staple-promising-and-industry-specific-languagesspan\n",
      "https://devoxsoftware.com/technology/python-development-company/\n",
      "https://www.tiobe.com/tiobe-index/cplusplus/\n",
      "https://www.internetlivestats.com/total-number-of-websites/\n",
      "https://w3techs.com/technologies/details/cp-javascript\n",
      "http://www.tiobe.com/tiobe_index?page=index\n",
      "https://www.tiobe.com/tiobe-index/matlab/\n",
      "https://www.indeed.com/career-advice/finding-a-job/highest-paid-programmers-by-language\n",
      "https://devoxsoftware.com/blog/top-50-programming-languages-to-learn-in-2022/#contact\n",
      "https://www.tiobe.com/tiobe-index/rust\n",
      "https://scratch.mit.edu/statistics/\n",
      "https://juliacomputing.com/blog/2021/08/newsletter-august/\n",
      "https://juliacomputing.com/blog/2021/01/newsletter-january/\n",
      "https://insights.stackoverflow.com/survey/2020\n",
      "https://developer.ibm.com/languages/cobol/\n",
      "https://www.explore-group.com/blog/the-most-popular-databases-2019/bp46/\n",
      "https://www.tiobe.com/tiobe-index/lua/\n",
      "https://blogs.windows.com/msedgedev/2019/08/02/update-disabling-vbscript-internet-explorer-windows-7-8/\n",
      "https://www.tiobe.com/tiobe-index/d/\n",
      "https://snyk.io/blog/jvm-ecosystem-report-2018/\n",
      "https://www.statista.com/statistics/211587/total-revenue-of-salesforce-since-2009/\n",
      "https://devoxsoftware.com/technology/java-development-company/\n",
      "https://devoxsoftware.com/blog/top-50-programming-languages-to-learn-in-2022/#contact\n",
      "https://devoxsoftware.com/blog/top-it-outsourcing-trends/\n",
      "https://devoxsoftware.com/blog/top-it-outsourcing-trends/\n",
      "https://devoxsoftware.com/blog/net-developer-salary-guide-based-on-experience-and-location/\n",
      "https://devoxsoftware.com/blog/net-developer-salary-guide-based-on-experience-and-location/\n",
      "https://devoxsoftware.com/blog/back-end-front-end-developer-salary-trends-in-2021/\n",
      "https://devoxsoftware.com/blog/back-end-front-end-developer-salary-trends-in-2021/\n",
      "https://devoxsoftware.com/privacy-policy/\n",
      "https://www.appfutura.com/companies/devox-software\n",
      "https://devoxsoftware.com/services/\n",
      "https://devoxsoftware.com/services/software-development-outsourcing/\n",
      "https://devoxsoftware.com/services/dedicated-team/\n",
      "https://devoxsoftware.com/services/staff-augmentation/\n",
      "https://devoxsoftware.com/services/it-staffing/\n",
      "https://devoxsoftware.com/services/offshore-development-center/\n",
      "https://devoxsoftware.com/services/back-end-development-services/\n",
      "https://devoxsoftware.com/services/front-end-development-services/\n",
      "https://devoxsoftware.com/services/business-process-outsourcing/\n",
      "https://devoxsoftware.com/services/saas-development-company/\n",
      "https://devoxsoftware.com/services/business-intelligence-services/\n",
      "https://devoxsoftware.com/services/database-development-company/\n",
      "https://devoxsoftware.com/services/web-development-services/\n",
      "https://devoxsoftware.com/services/offshore-software-development/\n",
      "https://devoxsoftware.com/expertise/\n",
      "https://devoxsoftware.com/expertise/outsource-web-development/\n",
      "https://devoxsoftware.com/expertise/outsource-web-design/\n",
      "https://devoxsoftware.com/expertise/outsource-mobile-development/\n",
      "https://devoxsoftware.com/expertise/qa-outsourcing/\n",
      "https://devoxsoftware.com/expertise/devops-consulting/\n",
      "https://devoxsoftware.com/technology/\n",
      "https://devoxsoftware.com/technology/hire-full-stack-developer/\n",
      "https://devoxsoftware.com/technology/hire-angular-developer/\n",
      "https://devoxsoftware.com/technology/hire-web-developer/\n",
      "https://devoxsoftware.com/hire/hire-dotnet-developers/\n",
      "https://devoxsoftware.com/hire/hire-java-developers/\n",
      "https://devoxsoftware.com/technology/microsoft-net-development-company/\n",
      "https://devoxsoftware.com/technology/angular-development-company/\n",
      "https://devoxsoftware.com/technology/java-development-company/\n",
      "https://devoxsoftware.com/technology/react-js-development-services/\n",
      "https://devoxsoftware.com/technology/vue-js-development-company/\n",
      "https://devoxsoftware.com/technology/node-js-development-services/\n",
      "https://devoxsoftware.com/blog/\n",
      "https://devoxsoftware.com/blog/vue-vs-react-which-one-to-choose-for-2022/\n",
      "https://devoxsoftware.com/blog/real-cost-of-it-outsourcing-in-2022/\n",
      "https://devoxsoftware.com/blog/technology-stack-for-web-app-development/\n",
      "https://devoxsoftware.com/blog/software-development-models-which-one-to-choose/\n",
      "https://devoxsoftware.com/blog/software-quality-metrics-measure-it-succesfully/\n",
      "https://devoxsoftware.com/blog/average-software-developer-hourly-rate/\n",
      "https://devoxsoftware.com/blog/software-cost-estimation/\n",
      "https://devoxsoftware.com/about-us/\n",
      "https://devoxsoftware.com/careers/\n",
      "https://devoxsoftware.com/mentorship/\n",
      "https://www.facebook.com/devoxsoftware\n",
      "https://www.linkedin.com/company/devox-software/\n",
      "https://twitter.com/DevoxSoftware\n",
      "https://dribbble.com/devoxsoftware\n",
      "https://www.behance.net/devoxsoftware\n",
      "https://www.youtube.com/channel/UCEAJd_FXYt_Q_JgmKeXswXg\n",
      "https://clutch.co/profile/devox-software\n",
      "mailto:info@devoxsoftware.com\n",
      "https://devoxsoftware.com/privacy-policy/\n",
      "https://www.linkedin.com/company/devox-software/\n",
      "https://www.facebook.com/devoxsoftware\n",
      "https://www.youtube.com/channel/UCEAJd_FXYt_Q_JgmKeXswXg\n",
      "#contact\n"
     ]
    }
   ],
   "source": [
    "# Extracting all links on web page\n",
    "\n",
    "# Finding all anchor tags. Anchor tags are used to create hyper links on web pages.\n",
    "all_anchors = soup.findAll('a')\n",
    "# All anchor tags are found and stored inside a list. Loop through and apply the get method to extract the links.\n",
    "for anchor in all_anchors:\n",
    "    print(anchor.get('href'))"
   ]
  },
  {
   "cell_type": "code",
   "execution_count": 32,
   "metadata": {},
   "outputs": [
    {
     "name": "stdout",
     "output_type": "stream",
     "text": [
      "Services link is - https://devoxsoftware.com/services/ .\n",
      "Services link is - https://devoxsoftware.com/services/ .\n"
     ]
    }
   ],
   "source": [
    "# Making use of the already existing all_anchors list\n",
    "# Looping through and checking for anchor tag whose text content is 'Services'\n",
    "\n",
    "for anchor in all_anchors:\n",
    "    if anchor.text == 'Services':\n",
    "        print('Services link is -', anchor.get('href'),'.')"
   ]
  },
  {
   "cell_type": "code",
   "execution_count": 23,
   "metadata": {},
   "outputs": [
    {
     "name": "stdout",
     "output_type": "stream",
     "text": [
      "https://www.tiobe.com/tiobe-index/cplusplus/\n"
     ]
    }
   ],
   "source": [
    "# Searching for all spans\n",
    "spans = soup.findAll('span')\n",
    "\n",
    "# Looping through span list and checking for span whose text is 'the language of the year'\n",
    "# Then extracting the href value of its parent class.\n",
    "\n",
    "for span in spans:\n",
    "    if span.text == 'the language of the year':\n",
    "        print(span.parent.get('href'))"
   ]
  }
 ],
 "metadata": {
  "kernelspec": {
   "display_name": "Python 3.10.3 64-bit",
   "language": "python",
   "name": "python3"
  },
  "language_info": {
   "codemirror_mode": {
    "name": "ipython",
    "version": 3
   },
   "file_extension": ".py",
   "mimetype": "text/x-python",
   "name": "python",
   "nbconvert_exporter": "python",
   "pygments_lexer": "ipython3",
   "version": "3.10.3"
  },
  "orig_nbformat": 4,
  "vscode": {
   "interpreter": {
    "hash": "698943654ed90e0d601c73b15b591a66035d577c3c6badc918040a9e516c87b7"
   }
  }
 },
 "nbformat": 4,
 "nbformat_minor": 2
}
