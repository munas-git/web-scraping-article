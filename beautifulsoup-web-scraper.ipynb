{
 "cells": [
  {
   "cell_type": "code",
   "execution_count": 1,
   "metadata": {},
   "outputs": [],
   "source": [
    "import requests\n",
    "from bs4 import BeautifulSoup"
   ]
  },
  {
   "cell_type": "code",
   "execution_count": 2,
   "metadata": {},
   "outputs": [],
   "source": [
    "# URL link to the website being used in the article.\n",
    "URL = 'https://devoxsoftware.com/blog/top-50-programming-languages-to-learn-in-2022/'\n",
    "\n",
    "# Response request stored in response variable.\n",
    "response = requests.get(URL)"
   ]
  },
  {
   "cell_type": "code",
   "execution_count": 3,
   "metadata": {},
   "outputs": [
    {
     "name": "stdout",
     "output_type": "stream",
     "text": [
      "Status -  200\n",
      "Content encoding - UTF-8\n"
     ]
    }
   ],
   "source": [
    "# Extracted html content stored inside html_content variable.\n",
    "html_content = response.content\n",
    "\n",
    "# Site content Encoding stored in encoding variable.\n",
    "encoding = response.encoding\n",
    "\n",
    "# Request status code stored in status_code variable.\n",
    "status_code = response.status_code\n",
    "\n",
    "# Outputs\n",
    "print('Status - ', status_code)\n",
    "print('Content encoding -', encoding)\n",
    "# Un-comment next line and re-run this cell to view the raw content of the HTML file.\n",
    "# print('HTML CONTENT \\n\\n', html_content)"
   ]
  },
  {
   "cell_type": "code",
   "execution_count": 4,
   "metadata": {},
   "outputs": [
    {
     "name": "stdout",
     "output_type": "stream",
     "text": [
      "#######  Formatted HTML content view #######\n",
      "\n",
      "\n"
     ]
    }
   ],
   "source": [
    "# Instantiation of beautifulsoup\n",
    "soup = BeautifulSoup(html_content)\n",
    "\n",
    "# Formatting / beautifying of HTML content.\n",
    "formatted_view = soup.prettify()\n",
    "print('#######  Formatted HTML content view #######\\n\\n')\n",
    "# Un-comment next line and re-run this cell to view the formatted content of the HTML file.\n",
    "# print(formatted_view)"
   ]
  },
  {
   "cell_type": "code",
   "execution_count": 9,
   "metadata": {},
   "outputs": [
    {
     "name": "stdout",
     "output_type": "stream",
     "text": [
      "First h1 tag text content\n",
      "Heading using method 1 - Top 50 Programming Languages to Learn in 2022\n",
      "\n",
      " List containing all h1 tags\n",
      "[<h1 class=\"post-single__title\">\n",
      "        Top 50 Programming Languages to Learn in 2022    </h1>] \n",
      "\n",
      "all h1 tag text contents\n",
      "Top 50 Programming Languages to Learn in 2022\n"
     ]
    }
   ],
   "source": [
    "# NOTE: The '.text' method is what pulls out the text content or else you will\n",
    "# have the entire line of code returned to you. Try experimenting and without the '.text'  and see\n",
    "# the output that will be returned to you.\n",
    " \n",
    "\n",
    "# Method 1, using find.\n",
    "# This method will check for and return the first h1 tag found in the HTML file.\n",
    "heading = soup.find('h1')\n",
    "print(\"First h1 tag text content\")\n",
    "print(\"Heading using method 1 -\", heading.text.strip())\n",
    "\n",
    "# Method 2, using findAll or find_all, NB: They both perform the same function.\n",
    "# This method will check for all h1 tags and store them as a list.\n",
    "# In this website, there is only 1 h1 tag so it will be returning a list containing just 1 tag.\n",
    "print(\"\\n List containing all h1 tags\")\n",
    "headings = soup.findAll('h1')\n",
    "# This will output a list which you have to loop through and apply '.text'\n",
    "# Prints out list of headings.\n",
    "print(headings, '\\n')\n",
    "print(\"all h1 tag text contents\")\n",
    "for head in headings:\n",
    "    print(head.text.strip())"
   ]
  },
  {
   "cell_type": "code",
   "execution_count": 36,
   "metadata": {},
   "outputs": [
    {
     "name": "stdout",
     "output_type": "stream",
     "text": [
      "First language is - C  \n",
      "\n",
      "Top 50 languges are:\n",
      "C \n",
      "Python\n",
      "Java\n",
      "C++\n",
      "C#\n",
      "Virtual Basic\n",
      "JavaScript\n",
      "PHP\n",
      "Assembly Language\n",
      "SQL\n",
      "Groovy\n",
      "Classic Visual Basic\n",
      "Fortran\n",
      "R\n",
      "Ruby \n",
      "Swift\n",
      "Matlab\n",
      "Go\n",
      "Prolog\n",
      "Perl\n",
      "SAS\n",
      "Delphi/Object Pascal \n",
      "Objective-C\n",
      "Rust\n",
      "Scratch\n",
      "Julia\n",
      "Ada\n",
      "Lisp\n",
      "Dart\n",
      "PL/SQL\n",
      "(Visual) FoxPro\n",
      "Scala\n",
      "ABAP\n",
      "COBOL\n",
      "Logo\n",
      "F#\n",
      "Kotlin\n",
      "Transact-SQL\n",
      "Lua\n",
      "Scheme\n",
      "Ladder Logic\n",
      "VBScript\n",
      "D\n",
      "Clojure\n",
      "LabVIEW\n",
      "Nim\n",
      "VHDL\n",
      "Apex\n",
      "TypeScript\n",
      "Bash\n",
      "Final words\n"
     ]
    }
   ],
   "source": [
    "# Extracting the first language alone.\n",
    "language = soup.find('h3')\n",
    "print(\"First language is -\", language.text, '\\n')\n",
    "\n",
    "# Extracting all languages on the web page\n",
    "# I'll be using find_all instead of findAll here just to show that they both work.\n",
    "languages_list = soup.find_all('h3')\n",
    "# Due to the fact that I made use of the find_all method here, I can't apply '.text' because the results are in a list\n",
    "# I have to loop through the list before then applying the '.text' method.\n",
    "\n",
    "\n",
    "print(\"Top 50 languges are:\")\n",
    "for languages in languages_list:\n",
    "    print(languages.text)"
   ]
  }
 ],
 "metadata": {
  "kernelspec": {
   "display_name": "Python 3.10.3 64-bit",
   "language": "python",
   "name": "python3"
  },
  "language_info": {
   "codemirror_mode": {
    "name": "ipython",
    "version": 3
   },
   "file_extension": ".py",
   "mimetype": "text/x-python",
   "name": "python",
   "nbconvert_exporter": "python",
   "pygments_lexer": "ipython3",
   "version": "3.10.3"
  },
  "orig_nbformat": 4,
  "vscode": {
   "interpreter": {
    "hash": "698943654ed90e0d601c73b15b591a66035d577c3c6badc918040a9e516c87b7"
   }
  }
 },
 "nbformat": 4,
 "nbformat_minor": 2
}
